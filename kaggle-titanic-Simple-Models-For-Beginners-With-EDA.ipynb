{
 "cells": [
  {
   "cell_type": "markdown",
   "metadata": {},
   "source": [
    "<center><h2 style='color:red'>Titanic: Simple Models For Beginners With EDA</h2></center>\n",
    "\n",
    "* **1- Introduction**\n",
    "* **2- Data Preparation**\n",
    "* **3- Data Visualization**\n",
    "* **4- Preprocessing data for machine learning**\n",
    "* **5- Machine Learning**\n",
    "    * 5.1 Tree Based Models\n",
    "    * 5.2 Classic ML Models\n",
    "* **6- Submitting**\n",
    "    * 6.1 Ensemble\n",
    "<hr>"
   ]
  },
  {
   "cell_type": "markdown",
   "metadata": {},
   "source": [
    "**Introduction**<br>\n",
    "This is the legendary Titanic ML competition – the best, first challenge for you to dive into ML competitions and familiarize yourself with how the Kaggle platform works.<br><br>\n",
    "**Goal**\n",
    "The competition is simple: use machine learning to create a model that predicts which passengers survived the Titanic shipwreck."
   ]
  },
  {
   "cell_type": "markdown",
   "metadata": {},
   "source": [
    "# Data Preparation"
   ]
  },
  {
   "cell_type": "code",
   "execution_count": 1,
   "metadata": {
    "_uuid": "70aac4e232cc2a16112097b7c55dbc6dbe679951",
    "execution": {
     "iopub.execute_input": "2022-03-23T19:21:24.355397Z",
     "iopub.status.busy": "2022-03-23T19:21:24.354739Z",
     "iopub.status.idle": "2022-03-23T19:21:24.361446Z",
     "shell.execute_reply": "2022-03-23T19:21:24.360731Z",
     "shell.execute_reply.started": "2022-03-23T19:21:24.355337Z"
    }
   },
   "outputs": [],
   "source": [
    "# Disabling warnings\n",
    "import warnings\n",
    "warnings.simplefilter(\"ignore\")"
   ]
  },
  {
   "cell_type": "code",
   "execution_count": 2,
   "metadata": {
    "_uuid": "f3abeb841be4a5c22ead8cbff1aa7c1478d1f178",
    "execution": {
     "iopub.execute_input": "2022-03-23T19:21:24.384726Z",
     "iopub.status.busy": "2022-03-23T19:21:24.384377Z",
     "iopub.status.idle": "2022-03-23T19:21:25.529419Z",
     "shell.execute_reply": "2022-03-23T19:21:25.528295Z",
     "shell.execute_reply.started": "2022-03-23T19:21:24.384662Z"
    }
   },
   "outputs": [],
   "source": [
    "# Import Main libraries\n",
    "import numpy as np # linear algebra\n",
    "import pandas as pd # data processing, CSV file I/O (e.g. pd.read_csv)\n",
    "\n",
    "# Import Visualization lib.\n",
    "import matplotlib.pyplot as plt\n",
    "import seaborn as sns; sns.set()\n",
    "\n",
    "# processing\n",
    "from sklearn.preprocessing import LabelEncoder\n",
    "from sklearn.impute import SimpleImputer"
   ]
  },
  {
   "cell_type": "code",
   "execution_count": 3,
   "metadata": {
    "execution": {
     "iopub.execute_input": "2022-03-23T19:21:25.531847Z",
     "iopub.status.busy": "2022-03-23T19:21:25.531397Z",
     "iopub.status.idle": "2022-03-23T19:21:25.541872Z",
     "shell.execute_reply": "2022-03-23T19:21:25.540654Z",
     "shell.execute_reply.started": "2022-03-23T19:21:25.531737Z"
    }
   },
   "outputs": [
    {
     "name": "stdout",
     "output_type": "stream",
     "text": [
      "['train.csv', 'test.csv', 'gender_submission.csv']\n"
     ]
    }
   ],
   "source": [
    "import os\n",
    "print(os.listdir('../input'))"
   ]
  },
  {
   "cell_type": "code",
   "execution_count": 4,
   "metadata": {
    "_uuid": "ae4f36979cb2a0c4650ba0d56ed07770a6cc3a7c",
    "execution": {
     "iopub.execute_input": "2022-03-23T19:21:25.548621Z",
     "iopub.status.busy": "2022-03-23T19:21:25.548242Z",
     "iopub.status.idle": "2022-03-23T19:21:25.596058Z",
     "shell.execute_reply": "2022-03-23T19:21:25.594899Z",
     "shell.execute_reply.started": "2022-03-23T19:21:25.548544Z"
    }
   },
   "outputs": [],
   "source": [
    "# set our Dataframe\n",
    "train_df = pd.read_csv('../input/train.csv')\n",
    "test_df = pd.read_csv('../input/test.csv')\n",
    "sub = pd.read_csv('../input/gender_submission.csv')"
   ]
  },
  {
   "cell_type": "code",
   "execution_count": 5,
   "metadata": {
    "_uuid": "c3bba5ac5dbd0b2d28aa20786fb05f3483d7a46c",
    "execution": {
     "iopub.execute_input": "2022-03-23T19:21:25.598339Z",
     "iopub.status.busy": "2022-03-23T19:21:25.597580Z",
     "iopub.status.idle": "2022-03-23T19:21:25.655722Z",
     "shell.execute_reply": "2022-03-23T19:21:25.654685Z",
     "shell.execute_reply.started": "2022-03-23T19:21:25.598267Z"
    }
   },
   "outputs": [
    {
     "data": {
      "text/html": [
       "<div>\n",
       "<style scoped>\n",
       "    .dataframe tbody tr th:only-of-type {\n",
       "        vertical-align: middle;\n",
       "    }\n",
       "\n",
       "    .dataframe tbody tr th {\n",
       "        vertical-align: top;\n",
       "    }\n",
       "\n",
       "    .dataframe thead th {\n",
       "        text-align: right;\n",
       "    }\n",
       "</style>\n",
       "<table border=\"1\" class=\"dataframe\">\n",
       "  <thead>\n",
       "    <tr style=\"text-align: right;\">\n",
       "      <th></th>\n",
       "      <th>PassengerId</th>\n",
       "      <th>Survived</th>\n",
       "      <th>Pclass</th>\n",
       "      <th>Name</th>\n",
       "      <th>Sex</th>\n",
       "      <th>Age</th>\n",
       "      <th>SibSp</th>\n",
       "      <th>Parch</th>\n",
       "      <th>Ticket</th>\n",
       "      <th>Fare</th>\n",
       "      <th>Cabin</th>\n",
       "      <th>Embarked</th>\n",
       "    </tr>\n",
       "  </thead>\n",
       "  <tbody>\n",
       "    <tr>\n",
       "      <th>0</th>\n",
       "      <td>1</td>\n",
       "      <td>0</td>\n",
       "      <td>3</td>\n",
       "      <td>Braund, Mr. Owen Harris</td>\n",
       "      <td>male</td>\n",
       "      <td>22.0</td>\n",
       "      <td>1</td>\n",
       "      <td>0</td>\n",
       "      <td>A/5 21171</td>\n",
       "      <td>7.2500</td>\n",
       "      <td>NaN</td>\n",
       "      <td>S</td>\n",
       "    </tr>\n",
       "    <tr>\n",
       "      <th>1</th>\n",
       "      <td>2</td>\n",
       "      <td>1</td>\n",
       "      <td>1</td>\n",
       "      <td>Cumings, Mrs. John Bradley (Florence Briggs Th...</td>\n",
       "      <td>female</td>\n",
       "      <td>38.0</td>\n",
       "      <td>1</td>\n",
       "      <td>0</td>\n",
       "      <td>PC 17599</td>\n",
       "      <td>71.2833</td>\n",
       "      <td>C85</td>\n",
       "      <td>C</td>\n",
       "    </tr>\n",
       "    <tr>\n",
       "      <th>2</th>\n",
       "      <td>3</td>\n",
       "      <td>1</td>\n",
       "      <td>3</td>\n",
       "      <td>Heikkinen, Miss. Laina</td>\n",
       "      <td>female</td>\n",
       "      <td>26.0</td>\n",
       "      <td>0</td>\n",
       "      <td>0</td>\n",
       "      <td>STON/O2. 3101282</td>\n",
       "      <td>7.9250</td>\n",
       "      <td>NaN</td>\n",
       "      <td>S</td>\n",
       "    </tr>\n",
       "    <tr>\n",
       "      <th>3</th>\n",
       "      <td>4</td>\n",
       "      <td>1</td>\n",
       "      <td>1</td>\n",
       "      <td>Futrelle, Mrs. Jacques Heath (Lily May Peel)</td>\n",
       "      <td>female</td>\n",
       "      <td>35.0</td>\n",
       "      <td>1</td>\n",
       "      <td>0</td>\n",
       "      <td>113803</td>\n",
       "      <td>53.1000</td>\n",
       "      <td>C123</td>\n",
       "      <td>S</td>\n",
       "    </tr>\n",
       "    <tr>\n",
       "      <th>4</th>\n",
       "      <td>5</td>\n",
       "      <td>0</td>\n",
       "      <td>3</td>\n",
       "      <td>Allen, Mr. William Henry</td>\n",
       "      <td>male</td>\n",
       "      <td>35.0</td>\n",
       "      <td>0</td>\n",
       "      <td>0</td>\n",
       "      <td>373450</td>\n",
       "      <td>8.0500</td>\n",
       "      <td>NaN</td>\n",
       "      <td>S</td>\n",
       "    </tr>\n",
       "  </tbody>\n",
       "</table>\n",
       "</div>"
      ],
      "text/plain": [
       "   PassengerId  Survived  Pclass    ...        Fare Cabin  Embarked\n",
       "0            1         0       3    ...      7.2500   NaN         S\n",
       "1            2         1       1    ...     71.2833   C85         C\n",
       "2            3         1       3    ...      7.9250   NaN         S\n",
       "3            4         1       1    ...     53.1000  C123         S\n",
       "4            5         0       3    ...      8.0500   NaN         S\n",
       "\n",
       "[5 rows x 12 columns]"
      ]
     },
     "execution_count": 5,
     "metadata": {},
     "output_type": "execute_result"
    }
   ],
   "source": [
    "# Show first 5 rows of train data\n",
    "train_df.head()"
   ]
  },
  {
   "cell_type": "code",
   "execution_count": 6,
   "metadata": {
    "_uuid": "8e2b9501d070619654a76575d32f13c8be70e0c6",
    "execution": {
     "iopub.execute_input": "2022-03-23T19:21:25.658224Z",
     "iopub.status.busy": "2022-03-23T19:21:25.657487Z",
     "iopub.status.idle": "2022-03-23T19:21:25.665594Z",
     "shell.execute_reply": "2022-03-23T19:21:25.664604Z",
     "shell.execute_reply.started": "2022-03-23T19:21:25.658157Z"
    }
   },
   "outputs": [
    {
     "name": "stdout",
     "output_type": "stream",
     "text": [
      "Train Data Size:  (891, 12)\n",
      "Test Data Size:   (418, 11)\n"
     ]
    }
   ],
   "source": [
    "# data size\n",
    "print(\"Train Data Size: \", train_df.shape)\n",
    "print(\"Test Data Size:  \", test_df.shape)"
   ]
  },
  {
   "cell_type": "code",
   "execution_count": 7,
   "metadata": {
    "_uuid": "b23f6379b45e7f048ff437d57989eff8b891d8e6",
    "execution": {
     "iopub.execute_input": "2022-03-23T19:21:25.668356Z",
     "iopub.status.busy": "2022-03-23T19:21:25.667524Z",
     "iopub.status.idle": "2022-03-23T19:21:25.684125Z",
     "shell.execute_reply": "2022-03-23T19:21:25.683130Z",
     "shell.execute_reply.started": "2022-03-23T19:21:25.668284Z"
    }
   },
   "outputs": [
    {
     "data": {
      "text/plain": [
       "PassengerId      0\n",
       "Survived         0\n",
       "Pclass           0\n",
       "Name             0\n",
       "Sex              0\n",
       "Age            177\n",
       "SibSp            0\n",
       "Parch            0\n",
       "Ticket           0\n",
       "Fare             0\n",
       "Cabin          687\n",
       "Embarked         2\n",
       "dtype: int64"
      ]
     },
     "execution_count": 7,
     "metadata": {},
     "output_type": "execute_result"
    }
   ],
   "source": [
    "# Show if any NAN data\n",
    "train_df.isnull().sum()"
   ]
  },
  {
   "cell_type": "code",
   "execution_count": 8,
   "metadata": {
    "execution": {
     "iopub.execute_input": "2022-03-23T19:21:25.686381Z",
     "iopub.status.busy": "2022-03-23T19:21:25.685808Z",
     "iopub.status.idle": "2022-03-23T19:21:25.696880Z",
     "shell.execute_reply": "2022-03-23T19:21:25.696081Z",
     "shell.execute_reply.started": "2022-03-23T19:21:25.686118Z"
    }
   },
   "outputs": [
    {
     "data": {
      "text/plain": [
       "PassengerId      0\n",
       "Pclass           0\n",
       "Name             0\n",
       "Sex              0\n",
       "Age             86\n",
       "SibSp            0\n",
       "Parch            0\n",
       "Ticket           0\n",
       "Fare             1\n",
       "Cabin          327\n",
       "Embarked         0\n",
       "dtype: int64"
      ]
     },
     "execution_count": 8,
     "metadata": {},
     "output_type": "execute_result"
    }
   ],
   "source": [
    "test_df.isnull().sum()"
   ]
  },
  {
   "cell_type": "markdown",
   "metadata": {},
   "source": [
    "1- Thier is more NAN value in \"Cabin\", \"Age\" columns.\n",
    "2- we did not need \"PassengerId\" columns.\n",
    "\n",
    "So we need to fix that"
   ]
  },
  {
   "cell_type": "markdown",
   "metadata": {},
   "source": [
    "Fix Data using 3 various methods. \n",
    "\n",
    "SimpleImputer is sklearn library for Imputation of missing values\n",
    "You Can find all of them here:\n",
    "[impute univariate feature imputation](https://scikit-learn.org/stable/modules/impute.html#univariate-feature-imputation)"
   ]
  },
  {
   "cell_type": "code",
   "execution_count": 9,
   "metadata": {
    "execution": {
     "iopub.execute_input": "2022-03-23T19:21:25.698817Z",
     "iopub.status.busy": "2022-03-23T19:21:25.698260Z",
     "iopub.status.idle": "2022-03-23T19:21:25.723453Z",
     "shell.execute_reply": "2022-03-23T19:21:25.722128Z",
     "shell.execute_reply.started": "2022-03-23T19:21:25.698736Z"
    }
   },
   "outputs": [],
   "source": [
    "imputer = SimpleImputer(np.nan, \"mean\")\n",
    "\n",
    "train_df['Age'] = imputer.fit_transform(np.array(train_df['Age']).reshape(891, 1)) # 1st\n",
    "train_df.Embarked.fillna(method='ffill', inplace=True) # 2nd\n",
    "train_df.drop(['PassengerId', 'Name', 'Cabin'], axis=1, inplace=True) # 3rd\n",
    "\n",
    "test_df['Age'] = imputer.fit_transform(np.array(test_df['Age']).reshape(418, 1))\n",
    "test_df.Embarked.fillna(method='ffill', inplace=True)\n",
    "test_df.Fare.fillna(method='ffill', inplace=True)\n",
    "test_df.drop(['PassengerId', 'Name', 'Cabin'], axis=1, inplace=True)"
   ]
  },
  {
   "cell_type": "markdown",
   "metadata": {},
   "source": []
  },
  {
   "cell_type": "markdown",
   "metadata": {},
   "source": [
    "# Data Visualization"
   ]
  },
  {
   "cell_type": "code",
   "execution_count": 10,
   "metadata": {
    "execution": {
     "iopub.execute_input": "2022-03-23T19:21:25.725551Z",
     "iopub.status.busy": "2022-03-23T19:21:25.724812Z",
     "iopub.status.idle": "2022-03-23T19:21:26.091395Z",
     "shell.execute_reply": "2022-03-23T19:21:26.090417Z",
     "shell.execute_reply.started": "2022-03-23T19:21:25.725485Z"
    }
   },
   "outputs": [
    {
     "data": {
      "text/plain": [
       "<matplotlib.axes._subplots.AxesSubplot at 0x7fe02f1a63c8>"
      ]
     },
     "execution_count": 10,
     "metadata": {},
     "output_type": "execute_result"
    },
    {
     "data": {
      "image/png": "[encoded data removed]",
      "text/plain": [
       "<Figure size 432x288 with 1 Axes>"
      ]
     },
     "metadata": {},
     "output_type": "display_data"
    }
   ],
   "source": [
    "sns.countplot(x='Survived', hue='Sex', data=train_df)"
   ]
  },
  {
   "cell_type": "code",
   "execution_count": 11,
   "metadata": {
    "execution": {
     "iopub.execute_input": "2022-03-23T19:21:26.093424Z",
     "iopub.status.busy": "2022-03-23T19:21:26.092865Z",
     "iopub.status.idle": "2022-03-23T19:21:26.509594Z",
     "shell.execute_reply": "2022-03-23T19:21:26.501201Z",
     "shell.execute_reply.started": "2022-03-23T19:21:26.093357Z"
    }
   },
   "outputs": [
    {
     "data": {
      "text/plain": [
       "<matplotlib.axes._subplots.AxesSubplot at 0x7fe02f1462e8>"
      ]
     },
     "execution_count": 11,
     "metadata": {},
     "output_type": "execute_result"
    },
    {
     "data": {
      "image/png": "[encoded data removed]",
      "text/plain": [
       "<Figure size 432x288 with 1 Axes>"
      ]
     },
     "metadata": {},
     "output_type": "display_data"
    }
   ],
   "source": [
    "sns.countplot(x='Embarked', hue='Survived', data=train_df)"
   ]
  },
  {
   "cell_type": "code",
   "execution_count": 12,
   "metadata": {
    "execution": {
     "iopub.execute_input": "2022-03-23T19:21:26.522074Z",
     "iopub.status.busy": "2022-03-23T19:21:26.511405Z",
     "iopub.status.idle": "2022-03-23T19:21:26.956234Z",
     "shell.execute_reply": "2022-03-23T19:21:26.954974Z",
     "shell.execute_reply.started": "2022-03-23T19:21:26.521943Z"
    }
   },
   "outputs": [
    {
     "data": {
      "text/plain": [
       "<matplotlib.axes._subplots.AxesSubplot at 0x7fe02b8a8a20>"
      ]
     },
     "execution_count": 12,
     "metadata": {},
     "output_type": "execute_result"
    },
    {
     "data": {
      "image/png": "[encoded data removed]",
      "text/plain": [
       "<Figure size 432x288 with 1 Axes>"
      ]
     },
     "metadata": {},
     "output_type": "display_data"
    }
   ],
   "source": [
    "sns.countplot(x='SibSp', hue='Survived', data=train_df)"
   ]
  },
  {
   "cell_type": "code",
   "execution_count": 13,
   "metadata": {
    "execution": {
     "iopub.execute_input": "2022-03-23T19:21:26.963710Z",
     "iopub.status.busy": "2022-03-23T19:21:26.962836Z",
     "iopub.status.idle": "2022-03-23T19:21:27.320211Z",
     "shell.execute_reply": "2022-03-23T19:21:27.318572Z",
     "shell.execute_reply.started": "2022-03-23T19:21:26.963350Z"
    }
   },
   "outputs": [
    {
     "data": {
      "text/plain": [
       "<matplotlib.axes._subplots.AxesSubplot at 0x7fe02b843d30>"
      ]
     },
     "execution_count": 13,
     "metadata": {},
     "output_type": "execute_result"
    },
    {
     "data": {
      "image/png": "[encoded data removed]",
      "text/plain": [
       "<Figure size 432x288 with 1 Axes>"
      ]
     },
     "metadata": {},
     "output_type": "display_data"
    }
   ],
   "source": [
    "sns.countplot(x='Pclass', hue='Survived', data=train_df)"
   ]
  },
  {
   "cell_type": "code",
   "execution_count": 14,
   "metadata": {
    "execution": {
     "iopub.execute_input": "2022-03-23T19:21:27.323255Z",
     "iopub.status.busy": "2022-03-23T19:21:27.322534Z",
     "iopub.status.idle": "2022-03-23T19:21:27.751280Z",
     "shell.execute_reply": "2022-03-23T19:21:27.750118Z",
     "shell.execute_reply.started": "2022-03-23T19:21:27.322933Z"
    }
   },
   "outputs": [
    {
     "data": {
      "text/plain": [
       "<matplotlib.axes._subplots.AxesSubplot at 0x7fe02b7fda20>"
      ]
     },
     "execution_count": 14,
     "metadata": {},
     "output_type": "execute_result"
    },
    {
     "data": {
      "image/png": "[encoded data removed]",
      "text/plain": [
       "<Figure size 720x360 with 1 Axes>"
      ]
     },
     "metadata": {},
     "output_type": "display_data"
    }
   ],
   "source": [
    "plt.figure(figsize=(10,5))\n",
    "sns.distplot(train_df['Age'], bins=24, color='b')"
   ]
  },
  {
   "cell_type": "code",
   "execution_count": 15,
   "metadata": {
    "execution": {
     "iopub.execute_input": "2022-03-23T19:21:27.753703Z",
     "iopub.status.busy": "2022-03-23T19:21:27.753068Z",
     "iopub.status.idle": "2022-03-23T19:21:28.612606Z",
     "shell.execute_reply": "2022-03-23T19:21:28.611481Z",
     "shell.execute_reply.started": "2022-03-23T19:21:27.753627Z"
    }
   },
   "outputs": [
    {
     "data": {
      "image/png": "[encoded data removed]",
      "text/plain": [
       "<Figure size 864x576 with 2 Axes>"
      ]
     },
     "metadata": {},
     "output_type": "display_data"
    }
   ],
   "source": [
    "plt.figure(figsize=(12, 8))\n",
    "plt.title('Titanic Correlation of Features', y=1.05, size=15)\n",
    "sns.heatmap(train_df.corr(), linewidths=0.1, vmax=1.0, \n",
    "            square=True, linecolor='white', annot=True);"
   ]
  },
  {
   "cell_type": "markdown",
   "metadata": {},
   "source": [
    "# Preprocessing data for machine learning"
   ]
  },
  {
   "cell_type": "code",
   "execution_count": 16,
   "metadata": {
    "execution": {
     "iopub.execute_input": "2022-03-23T19:21:28.615240Z",
     "iopub.status.busy": "2022-03-23T19:21:28.614480Z",
     "iopub.status.idle": "2022-03-23T19:21:28.631386Z",
     "shell.execute_reply": "2022-03-23T19:21:28.629914Z",
     "shell.execute_reply.started": "2022-03-23T19:21:28.615168Z"
    }
   },
   "outputs": [
    {
     "name": "stdout",
     "output_type": "stream",
     "text": [
      "<class 'pandas.core.frame.DataFrame'>\n",
      "RangeIndex: 891 entries, 0 to 890\n",
      "Data columns (total 9 columns):\n",
      "Survived    891 non-null int64\n",
      "Pclass      891 non-null int64\n",
      "Sex         891 non-null object\n",
      "Age         891 non-null float64\n",
      "SibSp       891 non-null int64\n",
      "Parch       891 non-null int64\n",
      "Ticket      891 non-null object\n",
      "Fare        891 non-null float64\n",
      "Embarked    891 non-null object\n",
      "dtypes: float64(2), int64(4), object(3)\n",
      "memory usage: 62.7+ KB\n"
     ]
    }
   ],
   "source": [
    "train_df.info()"
   ]
  },
  {
   "cell_type": "markdown",
   "metadata": {},
   "source": [
    "As you see 3 columns have \"object\" data type. So we must convert it to numbers."
   ]
  },
  {
   "cell_type": "code",
   "execution_count": 17,
   "metadata": {
    "execution": {
     "iopub.execute_input": "2022-03-23T19:21:28.635450Z",
     "iopub.status.busy": "2022-03-23T19:21:28.634331Z",
     "iopub.status.idle": "2022-03-23T19:21:28.657480Z",
     "shell.execute_reply": "2022-03-23T19:21:28.656294Z",
     "shell.execute_reply.started": "2022-03-23T19:21:28.635372Z"
    }
   },
   "outputs": [
    {
     "data": {
      "text/plain": [
       "Index(['Sex', 'Ticket', 'Embarked'], dtype='object')"
      ]
     },
     "execution_count": 17,
     "metadata": {},
     "output_type": "execute_result"
    }
   ],
   "source": [
    "objects_cols = train_df.select_dtypes(\"object\").columns\n",
    "objects_cols"
   ]
  },
  {
   "cell_type": "markdown",
   "metadata": {},
   "source": [
    "Encode target labels with value between 0 and (n_classes - 1)."
   ]
  },
  {
   "cell_type": "code",
   "execution_count": 18,
   "metadata": {
    "execution": {
     "iopub.execute_input": "2022-03-23T19:21:28.659837Z",
     "iopub.status.busy": "2022-03-23T19:21:28.659499Z",
     "iopub.status.idle": "2022-03-23T19:21:28.693350Z",
     "shell.execute_reply": "2022-03-23T19:21:28.692332Z",
     "shell.execute_reply.started": "2022-03-23T19:21:28.659776Z"
    }
   },
   "outputs": [
    {
     "data": {
      "text/html": [
       "<div>\n",
       "<style scoped>\n",
       "    .dataframe tbody tr th:only-of-type {\n",
       "        vertical-align: middle;\n",
       "    }\n",
       "\n",
       "    .dataframe tbody tr th {\n",
       "        vertical-align: top;\n",
       "    }\n",
       "\n",
       "    .dataframe thead th {\n",
       "        text-align: right;\n",
       "    }\n",
       "</style>\n",
       "<table border=\"1\" class=\"dataframe\">\n",
       "  <thead>\n",
       "    <tr style=\"text-align: right;\">\n",
       "      <th></th>\n",
       "      <th>Sex</th>\n",
       "      <th>Ticket</th>\n",
       "      <th>Embarked</th>\n",
       "    </tr>\n",
       "  </thead>\n",
       "  <tbody>\n",
       "    <tr>\n",
       "      <th>0</th>\n",
       "      <td>1</td>\n",
       "      <td>523</td>\n",
       "      <td>2</td>\n",
       "    </tr>\n",
       "    <tr>\n",
       "      <th>1</th>\n",
       "      <td>0</td>\n",
       "      <td>596</td>\n",
       "      <td>0</td>\n",
       "    </tr>\n",
       "    <tr>\n",
       "      <th>2</th>\n",
       "      <td>0</td>\n",
       "      <td>669</td>\n",
       "      <td>2</td>\n",
       "    </tr>\n",
       "    <tr>\n",
       "      <th>3</th>\n",
       "      <td>0</td>\n",
       "      <td>49</td>\n",
       "      <td>2</td>\n",
       "    </tr>\n",
       "    <tr>\n",
       "      <th>4</th>\n",
       "      <td>1</td>\n",
       "      <td>472</td>\n",
       "      <td>2</td>\n",
       "    </tr>\n",
       "  </tbody>\n",
       "</table>\n",
       "</div>"
      ],
      "text/plain": [
       "   Sex  Ticket  Embarked\n",
       "0    1     523         2\n",
       "1    0     596         0\n",
       "2    0     669         2\n",
       "3    0      49         2\n",
       "4    1     472         2"
      ]
     },
     "execution_count": 18,
     "metadata": {},
     "output_type": "execute_result"
    }
   ],
   "source": [
    "le = LabelEncoder()\n",
    "train_df[objects_cols] = train_df[objects_cols].apply(le.fit_transform)\n",
    "test_df[objects_cols] = test_df[objects_cols].apply(le.fit_transform)\n",
    "train_df[objects_cols].head()"
   ]
  },
  {
   "cell_type": "code",
   "execution_count": 19,
   "metadata": {
    "execution": {
     "iopub.execute_input": "2022-03-23T19:21:28.695662Z",
     "iopub.status.busy": "2022-03-23T19:21:28.695376Z",
     "iopub.status.idle": "2022-03-23T19:21:28.806111Z",
     "shell.execute_reply": "2022-03-23T19:21:28.805220Z",
     "shell.execute_reply.started": "2022-03-23T19:21:28.695615Z"
    }
   },
   "outputs": [
    {
     "data": {
      "text/html": [
       "<div>\n",
       "<style scoped>\n",
       "    .dataframe tbody tr th:only-of-type {\n",
       "        vertical-align: middle;\n",
       "    }\n",
       "\n",
       "    .dataframe tbody tr th {\n",
       "        vertical-align: top;\n",
       "    }\n",
       "\n",
       "    .dataframe thead th {\n",
       "        text-align: right;\n",
       "    }\n",
       "</style>\n",
       "<table border=\"1\" class=\"dataframe\">\n",
       "  <thead>\n",
       "    <tr style=\"text-align: right;\">\n",
       "      <th></th>\n",
       "      <th>Survived</th>\n",
       "      <th>Pclass</th>\n",
       "      <th>Sex</th>\n",
       "      <th>Age</th>\n",
       "      <th>SibSp</th>\n",
       "      <th>Parch</th>\n",
       "      <th>Ticket</th>\n",
       "      <th>Fare</th>\n",
       "      <th>Embarked</th>\n",
       "    </tr>\n",
       "  </thead>\n",
       "  <tbody>\n",
       "    <tr>\n",
       "      <th>0</th>\n",
       "      <td>0</td>\n",
       "      <td>3</td>\n",
       "      <td>1</td>\n",
       "      <td>22.0</td>\n",
       "      <td>1</td>\n",
       "      <td>0</td>\n",
       "      <td>523</td>\n",
       "      <td>7.2500</td>\n",
       "      <td>2</td>\n",
       "    </tr>\n",
       "    <tr>\n",
       "      <th>1</th>\n",
       "      <td>1</td>\n",
       "      <td>1</td>\n",
       "      <td>0</td>\n",
       "      <td>38.0</td>\n",
       "      <td>1</td>\n",
       "      <td>0</td>\n",
       "      <td>596</td>\n",
       "      <td>71.2833</td>\n",
       "      <td>0</td>\n",
       "    </tr>\n",
       "    <tr>\n",
       "      <th>2</th>\n",
       "      <td>1</td>\n",
       "      <td>3</td>\n",
       "      <td>0</td>\n",
       "      <td>26.0</td>\n",
       "      <td>0</td>\n",
       "      <td>0</td>\n",
       "      <td>669</td>\n",
       "      <td>7.9250</td>\n",
       "      <td>2</td>\n",
       "    </tr>\n",
       "    <tr>\n",
       "      <th>3</th>\n",
       "      <td>1</td>\n",
       "      <td>1</td>\n",
       "      <td>0</td>\n",
       "      <td>35.0</td>\n",
       "      <td>1</td>\n",
       "      <td>0</td>\n",
       "      <td>49</td>\n",
       "      <td>53.1000</td>\n",
       "      <td>2</td>\n",
       "    </tr>\n",
       "    <tr>\n",
       "      <th>4</th>\n",
       "      <td>0</td>\n",
       "      <td>3</td>\n",
       "      <td>1</td>\n",
       "      <td>35.0</td>\n",
       "      <td>0</td>\n",
       "      <td>0</td>\n",
       "      <td>472</td>\n",
       "      <td>8.0500</td>\n",
       "      <td>2</td>\n",
       "    </tr>\n",
       "  </tbody>\n",
       "</table>\n",
       "</div>"
      ],
      "text/plain": [
       "   Survived  Pclass  Sex   Age    ...     Parch  Ticket     Fare  Embarked\n",
       "0         0       3    1  22.0    ...         0     523   7.2500         2\n",
       "1         1       1    0  38.0    ...         0     596  71.2833         0\n",
       "2         1       3    0  26.0    ...         0     669   7.9250         2\n",
       "3         1       1    0  35.0    ...         0      49  53.1000         2\n",
       "4         0       3    1  35.0    ...         0     472   8.0500         2\n",
       "\n",
       "[5 rows x 9 columns]"
      ]
     },
     "execution_count": 19,
     "metadata": {},
     "output_type": "execute_result"
    }
   ],
   "source": [
    "train_df.head()"
   ]
  },
  {
   "cell_type": "code",
   "execution_count": 20,
   "metadata": {
    "execution": {
     "iopub.execute_input": "2022-03-23T19:21:28.808223Z",
     "iopub.status.busy": "2022-03-23T19:21:28.807858Z",
     "iopub.status.idle": "2022-03-23T19:21:29.120740Z",
     "shell.execute_reply": "2022-03-23T19:21:29.119737Z",
     "shell.execute_reply.started": "2022-03-23T19:21:28.808155Z"
    }
   },
   "outputs": [],
   "source": [
    "# model selection\n",
    "from sklearn.model_selection import train_test_split, cross_val_score\n",
    "\n",
    "# normaliztion\n",
    "from sklearn.preprocessing import StandardScaler\n",
    "\n",
    "# tree based models\n",
    "from xgboost import XGBClassifier\n",
    "from sklearn.ensemble import RandomForestClassifier\n",
    "\n",
    "# classic ml models\n",
    "from sklearn.naive_bayes import GaussianNB\n",
    "from sklearn.svm import SVC\n",
    "\n",
    "# metrics\n",
    "from sklearn.metrics import accuracy_score"
   ]
  },
  {
   "cell_type": "code",
   "execution_count": 21,
   "metadata": {
    "_uuid": "9016144a022960c3596608c9b6ba0bede853c55a",
    "execution": {
     "iopub.execute_input": "2022-03-23T19:21:29.122632Z",
     "iopub.status.busy": "2022-03-23T19:21:29.122268Z",
     "iopub.status.idle": "2022-03-23T19:21:29.130647Z",
     "shell.execute_reply": "2022-03-23T19:21:29.129316Z",
     "shell.execute_reply.started": "2022-03-23T19:21:29.122564Z"
    }
   },
   "outputs": [],
   "source": [
    "# Machine Learning \n",
    "X = train_df.drop(['Survived'], 1).values\n",
    "y = train_df['Survived'].values"
   ]
  },
  {
   "cell_type": "markdown",
   "metadata": {},
   "source": [
    "### Normalization\n",
    "\n",
    "**StandardScaler: Standardize features by removing the mean and scaling to unit variance.**"
   ]
  },
  {
   "cell_type": "code",
   "execution_count": 22,
   "metadata": {
    "execution": {
     "iopub.execute_input": "2022-03-23T19:21:30.505396Z",
     "iopub.status.busy": "2022-03-23T19:21:30.504991Z",
     "iopub.status.idle": "2022-03-23T19:21:30.511592Z",
     "shell.execute_reply": "2022-03-23T19:21:30.510665Z",
     "shell.execute_reply.started": "2022-03-23T19:21:30.505337Z"
    }
   },
   "outputs": [],
   "source": [
    "scale = StandardScaler()\n",
    "scale.fit(X)\n",
    "\n",
    "# transform data\n",
    "X = scale.transform(X)"
   ]
  },
  {
   "cell_type": "markdown",
   "metadata": {},
   "source": [
    "# Machine Learing"
   ]
  },
  {
   "cell_type": "code",
   "execution_count": 23,
   "metadata": {
    "_uuid": "b1d4d04e7b09668ba1a003bf24b3959d20327c94",
    "execution": {
     "iopub.execute_input": "2022-03-23T19:21:30.513033Z",
     "iopub.status.busy": "2022-03-23T19:21:30.512730Z",
     "iopub.status.idle": "2022-03-23T19:21:30.526505Z",
     "shell.execute_reply": "2022-03-23T19:21:30.525154Z",
     "shell.execute_reply.started": "2022-03-23T19:21:30.512978Z"
    }
   },
   "outputs": [],
   "source": [
    "# Split data to 80% training data and 20% of test to check the accuracy of our model\n",
    "X_train, X_test, y_train, y_test = train_test_split(X, y, test_size=0.2, random_state=42)"
   ]
  },
  {
   "cell_type": "markdown",
   "metadata": {},
   "source": [
    "**Class Model Idea from \"Heart Disease - Classifications\" kernel here:\n",
    "[Heart Disease - Classifications](https://www.kaggle.com/elcaiseri/heart-disease-classifications)**"
   ]
  },
  {
   "cell_type": "code",
   "execution_count": 24,
   "metadata": {
    "execution": {
     "iopub.execute_input": "2022-03-23T19:21:30.778112Z",
     "iopub.status.busy": "2022-03-23T19:21:30.777644Z",
     "iopub.status.idle": "2022-03-23T19:21:30.789075Z",
     "shell.execute_reply": "2022-03-23T19:21:30.788108Z",
     "shell.execute_reply.started": "2022-03-23T19:21:30.778030Z"
    }
   },
   "outputs": [],
   "source": [
    "class Model:\n",
    "    def __init__(self, model):\n",
    "        self.model = model\n",
    "        self.X, self.y = X, y\n",
    "        self.X_train, self.X_test, self.y_train, self.y_test = X_train, X_test, y_train, y_test\n",
    "        \n",
    "        self.train()\n",
    "    \n",
    "    def model_name(self):\n",
    "        model_name = type(self.model).__name__\n",
    "        return model_name\n",
    "        \n",
    "    def cross_validation(self, cv=5):\n",
    "        print(f\"Evaluate {self.model_name()} score by cross-validation...\")\n",
    "        CVS = cross_val_score(self.model, self.X, self.y, scoring='accuracy', cv=cv)\n",
    "        print(CVS)\n",
    "        print(\"=\"*60, \"\\nMean accuracy of cross-validation: \", CVS.mean())\n",
    "    \n",
    "    def train(self):\n",
    "        print(f\"Training {self.model_name()} Model...\")\n",
    "        self.model.fit(X_train, y_train)\n",
    "        print(\"Model Trained.\")\n",
    "        \n",
    "    def prediction(self, test_x=None, test=False):\n",
    "        if test == False:\n",
    "            y_pred = self.model.predict(self.X_test)\n",
    "        else:\n",
    "            y_pred = self.model.predict(test_x)\n",
    "            \n",
    "        return y_pred\n",
    "    \n",
    "    def accuracy(self):\n",
    "        y_pred = self.prediction()\n",
    "        y_test = self.y_test\n",
    "        \n",
    "        acc = accuracy_score(y_pred, y_test)\n",
    "        print(f\"{self.model_name()} Model Accuracy: \", acc)"
   ]
  },
  {
   "cell_type": "markdown",
   "metadata": {},
   "source": [
    "### Tree Based Models"
   ]
  },
  {
   "cell_type": "code",
   "execution_count": 25,
   "metadata": {
    "execution": {
     "iopub.execute_input": "2022-03-23T19:21:30.790836Z",
     "iopub.status.busy": "2022-03-23T19:21:30.790543Z",
     "iopub.status.idle": "2022-03-23T19:21:31.449385Z",
     "shell.execute_reply": "2022-03-23T19:21:31.448376Z",
     "shell.execute_reply.started": "2022-03-23T19:21:30.790776Z"
    }
   },
   "outputs": [
    {
     "name": "stdout",
     "output_type": "stream",
     "text": [
      "Training XGBClassifier Model...\n",
      "Model Trained.\n",
      "Evaluate XGBClassifier score by cross-validation...\n",
      "[0.81564246 0.81005587 0.84831461 0.83707865 0.85875706]\n",
      "============================================================ \n",
      "Mean accuracy of cross-validation:  0.8339697289192409\n"
     ]
    }
   ],
   "source": [
    "xgb = XGBClassifier(random_state=42, n_estimators=222)\n",
    "xgb = Model(xgb)\n",
    "\n",
    "xgb.cross_validation()"
   ]
  },
  {
   "cell_type": "code",
   "execution_count": 26,
   "metadata": {
    "execution": {
     "iopub.execute_input": "2022-03-23T19:21:31.451381Z",
     "iopub.status.busy": "2022-03-23T19:21:31.450940Z",
     "iopub.status.idle": "2022-03-23T19:21:31.458833Z",
     "shell.execute_reply": "2022-03-23T19:21:31.457799Z",
     "shell.execute_reply.started": "2022-03-23T19:21:31.451213Z"
    }
   },
   "outputs": [
    {
     "name": "stdout",
     "output_type": "stream",
     "text": [
      "XGBClassifier Model Accuracy:  0.8379888268156425\n"
     ]
    }
   ],
   "source": [
    "xgb.accuracy()"
   ]
  },
  {
   "cell_type": "code",
   "execution_count": 27,
   "metadata": {
    "execution": {
     "iopub.execute_input": "2022-03-23T19:21:31.460586Z",
     "iopub.status.busy": "2022-03-23T19:21:31.460237Z",
     "iopub.status.idle": "2022-03-23T19:21:31.574169Z",
     "shell.execute_reply": "2022-03-23T19:21:31.573072Z",
     "shell.execute_reply.started": "2022-03-23T19:21:31.460514Z"
    }
   },
   "outputs": [
    {
     "name": "stdout",
     "output_type": "stream",
     "text": [
      "Training RandomForestClassifier Model...\n",
      "Model Trained.\n",
      "Evaluate RandomForestClassifier score by cross-validation...\n",
      "[0.80446927 0.82122905 0.85955056 0.80898876 0.86440678]\n",
      "============================================================ \n",
      "Mean accuracy of cross-validation:  0.8317288859052121\n"
     ]
    }
   ],
   "source": [
    "rfc = RandomForestClassifier(random_state=42)\n",
    "rfc = Model(rfc)\n",
    "\n",
    "rfc.cross_validation()"
   ]
  },
  {
   "cell_type": "code",
   "execution_count": 28,
   "metadata": {
    "execution": {
     "iopub.execute_input": "2022-03-23T19:21:31.575713Z",
     "iopub.status.busy": "2022-03-23T19:21:31.575435Z",
     "iopub.status.idle": "2022-03-23T19:21:31.583966Z",
     "shell.execute_reply": "2022-03-23T19:21:31.582897Z",
     "shell.execute_reply.started": "2022-03-23T19:21:31.575651Z"
    }
   },
   "outputs": [
    {
     "name": "stdout",
     "output_type": "stream",
     "text": [
      "RandomForestClassifier Model Accuracy:  0.8435754189944135\n"
     ]
    }
   ],
   "source": [
    "rfc.accuracy()"
   ]
  },
  {
   "cell_type": "markdown",
   "metadata": {},
   "source": [
    "### Classic ML Models"
   ]
  },
  {
   "cell_type": "code",
   "execution_count": 29,
   "metadata": {
    "execution": {
     "iopub.execute_input": "2022-03-23T19:21:31.586029Z",
     "iopub.status.busy": "2022-03-23T19:21:31.585693Z",
     "iopub.status.idle": "2022-03-23T19:21:31.607690Z",
     "shell.execute_reply": "2022-03-23T19:21:31.606932Z",
     "shell.execute_reply.started": "2022-03-23T19:21:31.585961Z"
    }
   },
   "outputs": [
    {
     "name": "stdout",
     "output_type": "stream",
     "text": [
      "Training GaussianNB Model...\n",
      "Model Trained.\n",
      "Evaluate GaussianNB score by cross-validation...\n",
      "[0.74301676 0.73184358 0.78089888 0.80337079 0.80225989]\n",
      "============================================================ \n",
      "Mean accuracy of cross-validation:  0.7722779770245057\n"
     ]
    }
   ],
   "source": [
    "gnb = GaussianNB()\n",
    "gnb = Model(gnb)\n",
    "\n",
    "gnb.cross_validation()"
   ]
  },
  {
   "cell_type": "code",
   "execution_count": 30,
   "metadata": {
    "execution": {
     "iopub.execute_input": "2022-03-23T19:21:31.609281Z",
     "iopub.status.busy": "2022-03-23T19:21:31.608835Z",
     "iopub.status.idle": "2022-03-23T19:21:31.614431Z",
     "shell.execute_reply": "2022-03-23T19:21:31.613768Z",
     "shell.execute_reply.started": "2022-03-23T19:21:31.609238Z"
    }
   },
   "outputs": [
    {
     "name": "stdout",
     "output_type": "stream",
     "text": [
      "GaussianNB Model Accuracy:  0.770949720670391\n"
     ]
    }
   ],
   "source": [
    "gnb.accuracy()"
   ]
  },
  {
   "cell_type": "code",
   "execution_count": 31,
   "metadata": {
    "execution": {
     "iopub.execute_input": "2022-03-23T19:21:31.616208Z",
     "iopub.status.busy": "2022-03-23T19:21:31.615676Z",
     "iopub.status.idle": "2022-03-23T19:21:32.116958Z",
     "shell.execute_reply": "2022-03-23T19:21:32.116117Z",
     "shell.execute_reply.started": "2022-03-23T19:21:31.616114Z"
    }
   },
   "outputs": [
    {
     "name": "stdout",
     "output_type": "stream",
     "text": [
      "Training SVC Model...\n",
      "Model Trained.\n",
      "Evaluate SVC score by cross-validation...\n",
      "[0.83240223 0.82122905 0.81460674 0.80898876 0.84180791]\n",
      "============================================================ \n",
      "Mean accuracy of cross-validation:  0.8238069400277397\n"
     ]
    }
   ],
   "source": [
    "svc = SVC(C=0.4, random_state=42, probability=True)\n",
    "svc = Model(svc)\n",
    "\n",
    "svc.cross_validation()"
   ]
  },
  {
   "cell_type": "code",
   "execution_count": 32,
   "metadata": {
    "execution": {
     "iopub.execute_input": "2022-03-23T19:21:32.118696Z",
     "iopub.status.busy": "2022-03-23T19:21:32.118409Z",
     "iopub.status.idle": "2022-03-23T19:21:32.127181Z",
     "shell.execute_reply": "2022-03-23T19:21:32.126155Z",
     "shell.execute_reply.started": "2022-03-23T19:21:32.118640Z"
    }
   },
   "outputs": [
    {
     "name": "stdout",
     "output_type": "stream",
     "text": [
      "SVC Model Accuracy:  0.8156424581005587\n"
     ]
    }
   ],
   "source": [
    "svc.accuracy()"
   ]
  },
  {
   "cell_type": "markdown",
   "metadata": {},
   "source": [
    "# Submitting"
   ]
  },
  {
   "cell_type": "code",
   "execution_count": 33,
   "metadata": {
    "execution": {
     "iopub.execute_input": "2022-03-23T19:21:32.129507Z",
     "iopub.status.busy": "2022-03-23T19:21:32.129225Z",
     "iopub.status.idle": "2022-03-23T19:21:32.140411Z",
     "shell.execute_reply": "2022-03-23T19:21:32.138736Z",
     "shell.execute_reply.started": "2022-03-23T19:21:32.129452Z"
    }
   },
   "outputs": [],
   "source": [
    "# Predict our test file\n",
    "test_df.head()\n",
    "\n",
    "# normalize testset\n",
    "test_X = scale.transform(test_df.values)"
   ]
  },
  {
   "cell_type": "code",
   "execution_count": 34,
   "metadata": {
    "execution": {
     "iopub.execute_input": "2022-03-23T19:21:32.144216Z",
     "iopub.status.busy": "2022-03-23T19:21:32.143791Z",
     "iopub.status.idle": "2022-03-23T19:21:32.170702Z",
     "shell.execute_reply": "2022-03-23T19:21:32.169621Z",
     "shell.execute_reply.started": "2022-03-23T19:21:32.144143Z"
    }
   },
   "outputs": [],
   "source": [
    "xgb_pred = xgb.prediction(test_x=test_X, test=True)\n",
    "gnb_pred = gnb.prediction(test_x=test_X, test=True)\n",
    "svc_pred = svc.prediction(test_x=test_X, test=True)\n",
    "rfc_pred = rfc.prediction(test_x=test_X, test=True)"
   ]
  },
  {
   "cell_type": "code",
   "execution_count": 35,
   "metadata": {
    "execution": {
     "iopub.execute_input": "2022-03-23T19:21:32.172351Z",
     "iopub.status.busy": "2022-03-23T19:21:32.171985Z",
     "iopub.status.idle": "2022-03-23T19:21:32.447602Z",
     "shell.execute_reply": "2022-03-23T19:21:32.446583Z",
     "shell.execute_reply.started": "2022-03-23T19:21:32.172310Z"
    }
   },
   "outputs": [
    {
     "data": {
      "text/html": [
       "<div>\n",
       "<style scoped>\n",
       "    .dataframe tbody tr th:only-of-type {\n",
       "        vertical-align: middle;\n",
       "    }\n",
       "\n",
       "    .dataframe tbody tr th {\n",
       "        vertical-align: top;\n",
       "    }\n",
       "\n",
       "    .dataframe thead th {\n",
       "        text-align: right;\n",
       "    }\n",
       "</style>\n",
       "<table border=\"1\" class=\"dataframe\">\n",
       "  <thead>\n",
       "    <tr style=\"text-align: right;\">\n",
       "      <th></th>\n",
       "      <th>PassengerId</th>\n",
       "      <th>Survived</th>\n",
       "    </tr>\n",
       "  </thead>\n",
       "  <tbody>\n",
       "    <tr>\n",
       "      <th>0</th>\n",
       "      <td>892</td>\n",
       "      <td>0</td>\n",
       "    </tr>\n",
       "    <tr>\n",
       "      <th>1</th>\n",
       "      <td>893</td>\n",
       "      <td>0</td>\n",
       "    </tr>\n",
       "    <tr>\n",
       "      <th>2</th>\n",
       "      <td>894</td>\n",
       "      <td>0</td>\n",
       "    </tr>\n",
       "    <tr>\n",
       "      <th>3</th>\n",
       "      <td>895</td>\n",
       "      <td>0</td>\n",
       "    </tr>\n",
       "    <tr>\n",
       "      <th>4</th>\n",
       "      <td>896</td>\n",
       "      <td>1</td>\n",
       "    </tr>\n",
       "    <tr>\n",
       "      <th>5</th>\n",
       "      <td>897</td>\n",
       "      <td>0</td>\n",
       "    </tr>\n",
       "    <tr>\n",
       "      <th>6</th>\n",
       "      <td>898</td>\n",
       "      <td>1</td>\n",
       "    </tr>\n",
       "    <tr>\n",
       "      <th>7</th>\n",
       "      <td>899</td>\n",
       "      <td>0</td>\n",
       "    </tr>\n",
       "    <tr>\n",
       "      <th>8</th>\n",
       "      <td>900</td>\n",
       "      <td>1</td>\n",
       "    </tr>\n",
       "    <tr>\n",
       "      <th>9</th>\n",
       "      <td>901</td>\n",
       "      <td>0</td>\n",
       "    </tr>\n",
       "  </tbody>\n",
       "</table>\n",
       "</div>"
      ],
      "text/plain": [
       "   PassengerId  Survived\n",
       "0          892         0\n",
       "1          893         0\n",
       "2          894         0\n",
       "3          895         0\n",
       "4          896         1\n",
       "5          897         0\n",
       "6          898         1\n",
       "7          899         0\n",
       "8          900         1\n",
       "9          901         0"
      ]
     },
     "execution_count": 35,
     "metadata": {},
     "output_type": "execute_result"
    }
   ],
   "source": [
    "sub['Survived'] = xgb_pred # Best solo Submission (Top 5% LB)\n",
    "sub.to_csv('xgb_submission.csv', index=False)\n",
    "sub.head(10)"
   ]
  },
  {
   "cell_type": "code",
   "execution_count": 36,
   "metadata": {
    "execution": {
     "iopub.execute_input": "2022-03-23T19:21:32.450109Z",
     "iopub.status.busy": "2022-03-23T19:21:32.449707Z",
     "iopub.status.idle": "2022-03-23T19:21:32.473550Z",
     "shell.execute_reply": "2022-03-23T19:21:32.472636Z",
     "shell.execute_reply.started": "2022-03-23T19:21:32.450026Z"
    }
   },
   "outputs": [
    {
     "data": {
      "text/html": [
       "<div>\n",
       "<style scoped>\n",
       "    .dataframe tbody tr th:only-of-type {\n",
       "        vertical-align: middle;\n",
       "    }\n",
       "\n",
       "    .dataframe tbody tr th {\n",
       "        vertical-align: top;\n",
       "    }\n",
       "\n",
       "    .dataframe thead th {\n",
       "        text-align: right;\n",
       "    }\n",
       "</style>\n",
       "<table border=\"1\" class=\"dataframe\">\n",
       "  <thead>\n",
       "    <tr style=\"text-align: right;\">\n",
       "      <th></th>\n",
       "      <th>PassengerId</th>\n",
       "      <th>Survived</th>\n",
       "    </tr>\n",
       "  </thead>\n",
       "  <tbody>\n",
       "    <tr>\n",
       "      <th>0</th>\n",
       "      <td>892</td>\n",
       "      <td>0</td>\n",
       "    </tr>\n",
       "    <tr>\n",
       "      <th>1</th>\n",
       "      <td>893</td>\n",
       "      <td>0</td>\n",
       "    </tr>\n",
       "    <tr>\n",
       "      <th>2</th>\n",
       "      <td>894</td>\n",
       "      <td>0</td>\n",
       "    </tr>\n",
       "    <tr>\n",
       "      <th>3</th>\n",
       "      <td>895</td>\n",
       "      <td>0</td>\n",
       "    </tr>\n",
       "    <tr>\n",
       "      <th>4</th>\n",
       "      <td>896</td>\n",
       "      <td>1</td>\n",
       "    </tr>\n",
       "    <tr>\n",
       "      <th>5</th>\n",
       "      <td>897</td>\n",
       "      <td>0</td>\n",
       "    </tr>\n",
       "    <tr>\n",
       "      <th>6</th>\n",
       "      <td>898</td>\n",
       "      <td>1</td>\n",
       "    </tr>\n",
       "    <tr>\n",
       "      <th>7</th>\n",
       "      <td>899</td>\n",
       "      <td>1</td>\n",
       "    </tr>\n",
       "    <tr>\n",
       "      <th>8</th>\n",
       "      <td>900</td>\n",
       "      <td>1</td>\n",
       "    </tr>\n",
       "    <tr>\n",
       "      <th>9</th>\n",
       "      <td>901</td>\n",
       "      <td>0</td>\n",
       "    </tr>\n",
       "  </tbody>\n",
       "</table>\n",
       "</div>"
      ],
      "text/plain": [
       "   PassengerId  Survived\n",
       "0          892         0\n",
       "1          893         0\n",
       "2          894         0\n",
       "3          895         0\n",
       "4          896         1\n",
       "5          897         0\n",
       "6          898         1\n",
       "7          899         1\n",
       "8          900         1\n",
       "9          901         0"
      ]
     },
     "execution_count": 36,
     "metadata": {},
     "output_type": "execute_result"
    }
   ],
   "source": [
    "sub['Survived'] = rfc_pred\n",
    "sub.to_csv('rfc_submission.csv', index=False)\n",
    "sub.head(10)"
   ]
  },
  {
   "cell_type": "code",
   "execution_count": 37,
   "metadata": {
    "execution": {
     "iopub.execute_input": "2022-03-23T19:21:32.476438Z",
     "iopub.status.busy": "2022-03-23T19:21:32.475522Z",
     "iopub.status.idle": "2022-03-23T19:21:32.497298Z",
     "shell.execute_reply": "2022-03-23T19:21:32.496316Z",
     "shell.execute_reply.started": "2022-03-23T19:21:32.476360Z"
    }
   },
   "outputs": [
    {
     "data": {
      "text/html": [
       "<div>\n",
       "<style scoped>\n",
       "    .dataframe tbody tr th:only-of-type {\n",
       "        vertical-align: middle;\n",
       "    }\n",
       "\n",
       "    .dataframe tbody tr th {\n",
       "        vertical-align: top;\n",
       "    }\n",
       "\n",
       "    .dataframe thead th {\n",
       "        text-align: right;\n",
       "    }\n",
       "</style>\n",
       "<table border=\"1\" class=\"dataframe\">\n",
       "  <thead>\n",
       "    <tr style=\"text-align: right;\">\n",
       "      <th></th>\n",
       "      <th>PassengerId</th>\n",
       "      <th>Survived</th>\n",
       "    </tr>\n",
       "  </thead>\n",
       "  <tbody>\n",
       "    <tr>\n",
       "      <th>0</th>\n",
       "      <td>892</td>\n",
       "      <td>0</td>\n",
       "    </tr>\n",
       "    <tr>\n",
       "      <th>1</th>\n",
       "      <td>893</td>\n",
       "      <td>1</td>\n",
       "    </tr>\n",
       "    <tr>\n",
       "      <th>2</th>\n",
       "      <td>894</td>\n",
       "      <td>0</td>\n",
       "    </tr>\n",
       "    <tr>\n",
       "      <th>3</th>\n",
       "      <td>895</td>\n",
       "      <td>0</td>\n",
       "    </tr>\n",
       "    <tr>\n",
       "      <th>4</th>\n",
       "      <td>896</td>\n",
       "      <td>1</td>\n",
       "    </tr>\n",
       "    <tr>\n",
       "      <th>5</th>\n",
       "      <td>897</td>\n",
       "      <td>0</td>\n",
       "    </tr>\n",
       "    <tr>\n",
       "      <th>6</th>\n",
       "      <td>898</td>\n",
       "      <td>1</td>\n",
       "    </tr>\n",
       "    <tr>\n",
       "      <th>7</th>\n",
       "      <td>899</td>\n",
       "      <td>0</td>\n",
       "    </tr>\n",
       "    <tr>\n",
       "      <th>8</th>\n",
       "      <td>900</td>\n",
       "      <td>1</td>\n",
       "    </tr>\n",
       "    <tr>\n",
       "      <th>9</th>\n",
       "      <td>901</td>\n",
       "      <td>0</td>\n",
       "    </tr>\n",
       "  </tbody>\n",
       "</table>\n",
       "</div>"
      ],
      "text/plain": [
       "   PassengerId  Survived\n",
       "0          892         0\n",
       "1          893         1\n",
       "2          894         0\n",
       "3          895         0\n",
       "4          896         1\n",
       "5          897         0\n",
       "6          898         1\n",
       "7          899         0\n",
       "8          900         1\n",
       "9          901         0"
      ]
     },
     "execution_count": 37,
     "metadata": {},
     "output_type": "execute_result"
    }
   ],
   "source": [
    "sub['Survived'] = gnb_pred\n",
    "sub.to_csv('gnb_submission.csv', index=False)\n",
    "sub.head(10)"
   ]
  },
  {
   "cell_type": "code",
   "execution_count": 38,
   "metadata": {
    "execution": {
     "iopub.execute_input": "2022-03-23T19:21:32.498837Z",
     "iopub.status.busy": "2022-03-23T19:21:32.498386Z",
     "iopub.status.idle": "2022-03-23T19:21:32.524252Z",
     "shell.execute_reply": "2022-03-23T19:21:32.523414Z",
     "shell.execute_reply.started": "2022-03-23T19:21:32.498771Z"
    }
   },
   "outputs": [
    {
     "data": {
      "text/html": [
       "<div>\n",
       "<style scoped>\n",
       "    .dataframe tbody tr th:only-of-type {\n",
       "        vertical-align: middle;\n",
       "    }\n",
       "\n",
       "    .dataframe tbody tr th {\n",
       "        vertical-align: top;\n",
       "    }\n",
       "\n",
       "    .dataframe thead th {\n",
       "        text-align: right;\n",
       "    }\n",
       "</style>\n",
       "<table border=\"1\" class=\"dataframe\">\n",
       "  <thead>\n",
       "    <tr style=\"text-align: right;\">\n",
       "      <th></th>\n",
       "      <th>PassengerId</th>\n",
       "      <th>Survived</th>\n",
       "    </tr>\n",
       "  </thead>\n",
       "  <tbody>\n",
       "    <tr>\n",
       "      <th>0</th>\n",
       "      <td>892</td>\n",
       "      <td>0</td>\n",
       "    </tr>\n",
       "    <tr>\n",
       "      <th>1</th>\n",
       "      <td>893</td>\n",
       "      <td>1</td>\n",
       "    </tr>\n",
       "    <tr>\n",
       "      <th>2</th>\n",
       "      <td>894</td>\n",
       "      <td>0</td>\n",
       "    </tr>\n",
       "    <tr>\n",
       "      <th>3</th>\n",
       "      <td>895</td>\n",
       "      <td>0</td>\n",
       "    </tr>\n",
       "    <tr>\n",
       "      <th>4</th>\n",
       "      <td>896</td>\n",
       "      <td>1</td>\n",
       "    </tr>\n",
       "    <tr>\n",
       "      <th>5</th>\n",
       "      <td>897</td>\n",
       "      <td>0</td>\n",
       "    </tr>\n",
       "    <tr>\n",
       "      <th>6</th>\n",
       "      <td>898</td>\n",
       "      <td>1</td>\n",
       "    </tr>\n",
       "    <tr>\n",
       "      <th>7</th>\n",
       "      <td>899</td>\n",
       "      <td>0</td>\n",
       "    </tr>\n",
       "    <tr>\n",
       "      <th>8</th>\n",
       "      <td>900</td>\n",
       "      <td>1</td>\n",
       "    </tr>\n",
       "    <tr>\n",
       "      <th>9</th>\n",
       "      <td>901</td>\n",
       "      <td>0</td>\n",
       "    </tr>\n",
       "  </tbody>\n",
       "</table>\n",
       "</div>"
      ],
      "text/plain": [
       "   PassengerId  Survived\n",
       "0          892         0\n",
       "1          893         1\n",
       "2          894         0\n",
       "3          895         0\n",
       "4          896         1\n",
       "5          897         0\n",
       "6          898         1\n",
       "7          899         0\n",
       "8          900         1\n",
       "9          901         0"
      ]
     },
     "execution_count": 38,
     "metadata": {},
     "output_type": "execute_result"
    }
   ],
   "source": [
    "sub['Survived'] = svc_pred\n",
    "sub.to_csv('svc_submission.csv', index=False)\n",
    "sub.head(10)"
   ]
  },
  {
   "cell_type": "markdown",
   "metadata": {},
   "source": [
    "### Ensemble Submitions"
   ]
  },
  {
   "cell_type": "code",
   "execution_count": 39,
   "metadata": {
    "execution": {
     "iopub.execute_input": "2022-03-23T19:21:32.526044Z",
     "iopub.status.busy": "2022-03-23T19:21:32.525673Z",
     "iopub.status.idle": "2022-03-23T19:21:32.548717Z",
     "shell.execute_reply": "2022-03-23T19:21:32.547498Z",
     "shell.execute_reply.started": "2022-03-23T19:21:32.525973Z"
    }
   },
   "outputs": [],
   "source": [
    "# predict probability for each model\n",
    "xgb_preds = xgb.model.predict_proba(test_X)\n",
    "rfc_preds = rfc.model.predict_proba(test_X)\n",
    "gnb_preds = gnb.model.predict_proba(test_X)\n",
    "svc_preds = svc.model.predict_proba(test_X)\n",
    "\n",
    "# ensemble all models\n",
    "preds = (xgb_preds + rfc_preds + gnb_preds + svc_preds) / 4"
   ]
  },
  {
   "cell_type": "code",
   "execution_count": 40,
   "metadata": {
    "execution": {
     "iopub.execute_input": "2022-03-23T19:21:32.550941Z",
     "iopub.status.busy": "2022-03-23T19:21:32.550482Z",
     "iopub.status.idle": "2022-03-23T19:21:32.586253Z",
     "shell.execute_reply": "2022-03-23T19:21:32.585156Z",
     "shell.execute_reply.started": "2022-03-23T19:21:32.550877Z"
    }
   },
   "outputs": [
    {
     "data": {
      "text/html": [
       "<div>\n",
       "<style scoped>\n",
       "    .dataframe tbody tr th:only-of-type {\n",
       "        vertical-align: middle;\n",
       "    }\n",
       "\n",
       "    .dataframe tbody tr th {\n",
       "        vertical-align: top;\n",
       "    }\n",
       "\n",
       "    .dataframe thead th {\n",
       "        text-align: right;\n",
       "    }\n",
       "</style>\n",
       "<table border=\"1\" class=\"dataframe\">\n",
       "  <thead>\n",
       "    <tr style=\"text-align: right;\">\n",
       "      <th></th>\n",
       "      <th>PassengerId</th>\n",
       "      <th>Survived</th>\n",
       "    </tr>\n",
       "  </thead>\n",
       "  <tbody>\n",
       "    <tr>\n",
       "      <th>0</th>\n",
       "      <td>892</td>\n",
       "      <td>0</td>\n",
       "    </tr>\n",
       "    <tr>\n",
       "      <th>1</th>\n",
       "      <td>893</td>\n",
       "      <td>1</td>\n",
       "    </tr>\n",
       "    <tr>\n",
       "      <th>2</th>\n",
       "      <td>894</td>\n",
       "      <td>0</td>\n",
       "    </tr>\n",
       "    <tr>\n",
       "      <th>3</th>\n",
       "      <td>895</td>\n",
       "      <td>0</td>\n",
       "    </tr>\n",
       "    <tr>\n",
       "      <th>4</th>\n",
       "      <td>896</td>\n",
       "      <td>1</td>\n",
       "    </tr>\n",
       "    <tr>\n",
       "      <th>5</th>\n",
       "      <td>897</td>\n",
       "      <td>0</td>\n",
       "    </tr>\n",
       "    <tr>\n",
       "      <th>6</th>\n",
       "      <td>898</td>\n",
       "      <td>1</td>\n",
       "    </tr>\n",
       "    <tr>\n",
       "      <th>7</th>\n",
       "      <td>899</td>\n",
       "      <td>0</td>\n",
       "    </tr>\n",
       "    <tr>\n",
       "      <th>8</th>\n",
       "      <td>900</td>\n",
       "      <td>1</td>\n",
       "    </tr>\n",
       "    <tr>\n",
       "      <th>9</th>\n",
       "      <td>901</td>\n",
       "      <td>0</td>\n",
       "    </tr>\n",
       "  </tbody>\n",
       "</table>\n",
       "</div>"
      ],
      "text/plain": [
       "   PassengerId  Survived\n",
       "0          892         0\n",
       "1          893         1\n",
       "2          894         0\n",
       "3          895         0\n",
       "4          896         1\n",
       "5          897         0\n",
       "6          898         1\n",
       "7          899         0\n",
       "8          900         1\n",
       "9          901         0"
      ]
     },
     "execution_count": 40,
     "metadata": {},
     "output_type": "execute_result"
    }
   ],
   "source": [
    "sub['Survived'] = preds.argmax(axis=1)\n",
    "sub.to_csv('submission.csv', index=False)\n",
    "sub.head(10)"
   ]
  },
  {
   "cell_type": "markdown",
   "metadata": {},
   "source": [
    "<h3>Thanks For Being Here.  <span style='color:red'>UPVOTE</span>  If Interested.. Feel Free In Comments</h3>"
   ]
  },
  {
   "cell_type": "code",
   "execution_count": 41,
   "metadata": {},
   "outputs": [],
   "source": []
  }
 ],
 "metadata": {
  "kernelspec": {
   "display_name": "Python 3",
   "language": "python",
   "name": "python3"
  },
  "language_info": {
   "codemirror_mode": {
    "name": "ipython",
    "version": 3
   },
   "file_extension": ".py",
   "mimetype": "text/x-python",
   "name": "python",
   "nbconvert_exporter": "python",
   "pygments_lexer": "ipython3",
   "version": "3.6.4"
  }
 },
 "nbformat": 4,
 "nbformat_minor": 4
}
